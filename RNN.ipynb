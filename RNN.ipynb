{
 "cells": [
  {
   "cell_type": "code",
   "execution_count": 2,
   "id": "78ca174f-e258-4607-b4af-c128b8c26395",
   "metadata": {},
   "outputs": [],
   "source": [
    "import torch\n",
    "import matplotlib.pyplot as plt\n",
    "import torch.nn.functional as F\n",
    "import torch.nn as nn"
   ]
  },
  {
   "cell_type": "code",
   "execution_count": 3,
   "id": "20375eb1-6090-4190-9aa1-84197e7b2524",
   "metadata": {},
   "outputs": [],
   "source": [
    "names=open('yob2004.txt').read().splitlines()\n",
    "for i in range(len(names)):\n",
    "    s=\"\"\n",
    "    for j in names[i].lower():\n",
    "        if j==\",\":\n",
    "            names[i]=s\n",
    "            break\n",
    "        else:\n",
    "            s+=j\n",
    "s=\"\"\n",
    "for i in names:\n",
    "    for j in i:\n",
    "        s+=j\n",
    "s=['.']+sorted(set(s))\n",
    "\n",
    "\n",
    "# Creating A Dictionary For Easy Access of Indices Of Alphabets\n",
    "itos={ i:j for (i,j)in enumerate(s)}\n",
    "stoi={itos[i]:i for i in itos.keys()}\n"
   ]
  },
  {
   "cell_type": "code",
   "execution_count": 4,
   "id": "7a8ed9f9-9253-4d8a-8902-95a196ca4cfa",
   "metadata": {},
   "outputs": [
    {
     "name": "stdout",
     "output_type": "stream",
     "text": [
      "['emily', 'emma', 'madison', 'olivia', 'hannah']\n"
     ]
    }
   ],
   "source": [
    "print(names[:5])"
   ]
  },
  {
   "cell_type": "code",
   "execution_count": 7,
   "id": "3d29a9cc-0b6d-4051-977c-460dfde83db6",
   "metadata": {},
   "outputs": [],
   "source": [
    "one_hot = []\n",
    "max_length = max(len(name) for name in names) + 2  # +2 for start and end tokens\n",
    "\n",
    "for name in names:\n",
    "    lst = [F.one_hot(torch.tensor(0), 27)]  \n",
    "    for char in name:\n",
    "        lst.append(F.one_hot(torch.tensor(stoi[char]), 27))\n",
    "    lst.append(F.one_hot(torch.tensor(0), 27))  \n",
    "\n",
    "    # Pad to max_length using zero vectors\n",
    "    while len(lst) < max_length:\n",
    "        lst.append(torch.zeros(27))  \n",
    "    \n",
    "    one_hot.append(torch.stack(lst))  \n",
    "\n",
    "one_hot = torch.stack(one_hot)  "
   ]
  },
  {
   "cell_type": "code",
   "execution_count": 12,
   "id": "a353609e-ca91-4422-b9a8-071a0b1935cc",
   "metadata": {},
   "outputs": [],
   "source": [
    "labels=[]\n",
    "for name in names:\n",
    "    indices = [stoi[ch] for ch in name]  \n",
    "    indices = indices + [0]  \n",
    "    while len(indices) < max_length:\n",
    "        indices.append(0)  \n",
    "    labels.append(torch.tensor(indices, dtype=torch.long))\n",
    "    \n",
    "labels=torch.stack(labels)"
   ]
  },
  {
   "cell_type": "code",
   "execution_count": 13,
   "id": "9e8f09bf-c479-4f4b-872f-d01f83a67e7e",
   "metadata": {},
   "outputs": [
    {
     "data": {
      "text/plain": [
       "torch.Size([32060, 17])"
      ]
     },
     "execution_count": 13,
     "metadata": {},
     "output_type": "execute_result"
    }
   ],
   "source": [
    "labels.shape"
   ]
  },
  {
   "cell_type": "code",
   "execution_count": 32,
   "id": "2df39e83-b65d-412a-8bf7-caefd72a678e",
   "metadata": {},
   "outputs": [],
   "source": [
    "model=nn.Sequential(\n",
    "    nn.RNN(27,32,batch_first=True),\n",
    "    nn.Linear(32,27)\n",
    "    \n",
    ")\n",
    "criterion=nn.CrossEntropyLoss()\n",
    "optimizer=torch.optim.Adam(model.parameters(), lr=0.01)"
   ]
  },
  {
   "cell_type": "code",
   "execution_count": 33,
   "id": "b1d16034-8c87-409f-8c46-9ab7c2f2958a",
   "metadata": {},
   "outputs": [
    {
     "name": "stdout",
     "output_type": "stream",
     "text": [
      "Epoch 0, Loss: 3.2373\n",
      "Epoch 100, Loss: 1.0102\n",
      "Epoch 200, Loss: 0.9554\n",
      "Epoch 300, Loss: 0.9331\n",
      "Epoch 400, Loss: 0.9205\n",
      "Epoch 500, Loss: 0.9116\n",
      "Epoch 600, Loss: 0.9050\n",
      "Epoch 700, Loss: 0.8999\n"
     ]
    }
   ],
   "source": [
    "epochs=700\n",
    "for epoch in range(epochs):\n",
    "    optimizer.zero_grad()\n",
    "\n",
    "    rnn_out, _ = model[0](one_hot) \n",
    "    outs = model[1](rnn_out)\n",
    "    loss = criterion(outs.view(-1, 27), labels.view(-1))\n",
    "\n",
    "    loss.backward()\n",
    "    optimizer.step()\n",
    "\n",
    "    if epoch % 100 == 0:\n",
    "        print(f'Epoch {epoch}, Loss: {loss.item():.4f}')\n",
    "print(f'Epoch {epoch+1}, Loss: {loss.item():.4f}')\n",
    "    \n"
   ]
  },
  {
   "cell_type": "code",
   "execution_count": 34,
   "id": "7c5f7a9c-b720-41a1-bd5f-6d4e1072f665",
   "metadata": {},
   "outputs": [
    {
     "name": "stdout",
     "output_type": "stream",
     "text": [
      "kandralia\n",
      "sistiy\n",
      "jaxobh\n",
      "jeifare\n",
      "smajaen\n",
      "dora\n",
      "jamike\n",
      "javon\n",
      "anday\n",
      "kaider\n"
     ]
    }
   ],
   "source": [
    "def generate_name(model, start_char='.', max_len=10):\n",
    "    model.eval()\n",
    "    name = [stoi[start_char]]\n",
    "    hidden = None  \n",
    "\n",
    "    for _ in range(max_len):\n",
    "        input_tensor = torch.tensor([name[-1]], dtype=torch.long)\n",
    "        input_tensor = F.one_hot(input_tensor, num_classes=27).float().unsqueeze(0)  \n",
    "\n",
    "        rnn_out, hidden = model[0](input_tensor, hidden)  \n",
    "        output = model[1](rnn_out)  \n",
    "\n",
    "        probabilities = torch.softmax(output.squeeze(), dim=-1)  # Convert to probabilities\n",
    "        next_char = torch.multinomial(probabilities, num_samples=1).item()  # Sample next char\n",
    "\n",
    "        if next_char == 0:  # End token\n",
    "            break\n",
    "        name.append(next_char)\n",
    "    \n",
    "    return ''.join(itos[i] for i in name[1:])  \n",
    "\n",
    "# Generate different names\n",
    "for _ in range(10):\n",
    "    print(generate_name(model))\n"
   ]
  },
  {
   "cell_type": "code",
   "execution_count": null,
   "id": "60e3c97b-ac22-4ad8-a474-3b1e99172494",
   "metadata": {},
   "outputs": [],
   "source": []
  }
 ],
 "metadata": {
  "kernelspec": {
   "display_name": "Python 3 (ipykernel)",
   "language": "python",
   "name": "python3"
  },
  "language_info": {
   "codemirror_mode": {
    "name": "ipython",
    "version": 3
   },
   "file_extension": ".py",
   "mimetype": "text/x-python",
   "name": "python",
   "nbconvert_exporter": "python",
   "pygments_lexer": "ipython3",
   "version": "3.12.3"
  }
 },
 "nbformat": 4,
 "nbformat_minor": 5
}
